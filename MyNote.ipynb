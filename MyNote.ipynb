{
 "cells": [
  {
   "cell_type": "markdown",
   "metadata": {},
   "source": [
    "# Classes:\n",
    "\n",
    "### Link to mentor notes\n",
    "[COURSE CONTENT GOOGLE DRIVE](https://drive.google.com/drive/folders/1W9nv9n5HrDVU-HmB3bHb0r3tl4pfKWIs)\n",
    "\n",
    "1. Day 1: EDA \n",
    "2. Day 2: EDA\n",
    "3. Day 3: EDA [Dr T note](./Notes%20from%20DrT/Day1ImpNotes.pdf)\n",
    "4. Day 4: EDA & Linear regression"
   ]
  },
  {
   "cell_type": "markdown",
   "metadata": {},
   "source": [
    "### What is EDA\n",
    "\n",
    "EDA mean Exploratory Data Analysis. It is the process of analyzing data sets to summarize their main characteristics, often using statistical graphics and other data visualization methods. EDA is used for seeing what the data can tell us beyond the formal modeling or hypothesis testing task.\n",
    "\n",
    "### What is ML\n",
    "ML is set of processes to predicated the target value (price of a house, patient diabetic ...) from existing data\n",
    "\n",
    "Existing Data -> Data preprocessing -> Reporting and visualization -> ML -> Prediction\n",
    "\n",
    "### ML Seven Steps\n",
    "1. Gathering Data (CSV, JSON, SQL, Excel, Images, Text)\n",
    "    1. Ingestion\n",
    "    2. importing\n",
    "2. Preparing that Data \n",
    "    1. Data cleaning\n",
    "    2. Reporting and visualization\n",
    "3. Choosing a Model\n",
    "4. Training\n",
    "5. Evaluation\n",
    "6. Hyperparameter Tuning\n",
    "7. Prediction\n",
    "\n",
    "\n",
    "### ML Algorithms\n",
    "\n",
    "1. Know how to use a ML algorithm and modal\n",
    "2. know when to use ML alogrithm type\n",
    "\n",
    "### Steps for ML\n",
    "1. Load dataset\n",
    "2. Identify numirical and categorical by excel for your visualization and identify target variable\n",
    "3. Do your EDA\n",
    "4. Visualize your dataset & infer and get insights about the dataset\n",
    "5. build smple linear regresion ML model\n",
    "\n",
    "### Linear Regression Type\n",
    "1. Linear regresion\n",
    "2. Ploy regresion\n",
    "3. Multiple Linear Regression"
   ]
  }
 ],
 "metadata": {
  "language_info": {
   "name": "python"
  }
 },
 "nbformat": 4,
 "nbformat_minor": 2
}
