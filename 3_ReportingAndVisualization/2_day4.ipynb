{
 "cells": [
  {
   "cell_type": "markdown",
   "metadata": {},
   "source": [
    "## Steps for ML\n",
    "1. Load dataset\n",
    "2. Identify numirical and categorical by excel for your visualization and identify target variable\n",
    "3. Do your EDA\n",
    "4. Visualize your dataset & infer and get insights about the dataset\n",
    "5. build smple linear regresion ML model\n",
    "\n",
    "## Linear Regression Type\n",
    "1. Linear regresion\n",
    "2. Ploy regresion\n",
    "3. Mutiable column regresion"
   ]
  }
 ],
 "metadata": {
  "language_info": {
   "name": "python"
  }
 },
 "nbformat": 4,
 "nbformat_minor": 2
}
