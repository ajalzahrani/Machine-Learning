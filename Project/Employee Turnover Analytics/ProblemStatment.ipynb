{
 "cells": [
  {
   "cell_type": "markdown",
   "metadata": {},
   "source": [
    "# Employee Turnover Analytics.\n",
    "Course-end Project 3\n",
    "\n",
    "## Description\n",
    "\n",
    "## Project Statement: \n",
    "\n",
    "Portobello Tech is an app innovator that has devised an intelligent way of predicting employee turnover within the company. It periodically evaluates employees' work details including the number of projects they worked upon, average monthly working hours, time spent in the company, promotions in the last 5 years, and salary level. \n",
    "\n",
    "Data from prior evaluations show the employee’s satisfaction at the workplace. The data could be used to identify patterns in work style and their interest to continue to work in the company.  \n",
    "\n",
    "The HR Department owns the data and uses it to predict employee turnover. Employee turnover refers to the total number of workers who leave a company over a certain time period. \n",
    "\n",
    "As the ML Developer assigned to the HR Department, you have been asked to create ML Programs to \n",
    "\n",
    "- Perform data quality check by checking for missing values if any. \n",
    "- Understand what factors contributed most to employee turnover by EDA. \n",
    "- Perform clustering of Employees who left based on their satisfaction and evaluation. \n",
    "- Handle the left Class Imbalance using SMOTE technique. \n",
    "- Perform k-fold cross-validation model training and evaluate performance.  \n",
    "- Identify the best model and justify the evaluation metrics used.  \n",
    "- Suggest various retention strategies for targeted employees. \n"
   ]
  },
  {
   "cell_type": "markdown",
   "metadata": {},
   "source": []
  }
 ],
 "metadata": {
  "language_info": {
   "name": "python"
  }
 },
 "nbformat": 4,
 "nbformat_minor": 2
}
